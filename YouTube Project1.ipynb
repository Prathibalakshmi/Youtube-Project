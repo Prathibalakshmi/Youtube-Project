{
 "cells": [
  {
   "cell_type": "markdown",
   "metadata": {},
   "source": [
    "IMPORTING LIBRARIES"
   ]
  },
  {
   "cell_type": "code",
   "execution_count": 1,
   "metadata": {},
   "outputs": [],
   "source": [
    "import numpy as np\n",
    "import pandas as pd\n",
    "import matplotlib.pyplot as plt\n",
    "from matplotlib.ticker import StrMethodFormatter\n",
    "import seaborn as sns\n",
    "plt.style.use(\"dark_background\")\n"
   ]
  },
  {
   "cell_type": "markdown",
   "metadata": {},
   "source": [
    "READING CSV"
   ]
  },
  {
   "cell_type": "code",
   "execution_count": 2,
   "metadata": {},
   "outputs": [
    {
     "data": {
      "text/html": [
       "<div>\n",
       "<style scoped>\n",
       "    .dataframe tbody tr th:only-of-type {\n",
       "        vertical-align: middle;\n",
       "    }\n",
       "\n",
       "    .dataframe tbody tr th {\n",
       "        vertical-align: top;\n",
       "    }\n",
       "\n",
       "    .dataframe thead th {\n",
       "        text-align: right;\n",
       "    }\n",
       "</style>\n",
       "<table border=\"1\" class=\"dataframe\">\n",
       "  <thead>\n",
       "    <tr style=\"text-align: right;\">\n",
       "      <th></th>\n",
       "      <th>category_id</th>\n",
       "      <th>channel_title</th>\n",
       "      <th>subscriber</th>\n",
       "      <th>title</th>\n",
       "      <th>tags</th>\n",
       "      <th>description</th>\n",
       "      <th>Trend_day_count</th>\n",
       "      <th>Tag_count</th>\n",
       "      <th>Trend_tag_count</th>\n",
       "      <th>comment_count</th>\n",
       "      <th>comment_disabled</th>\n",
       "      <th>like dislike disabled</th>\n",
       "      <th>likes</th>\n",
       "      <th>dislike</th>\n",
       "      <th>tag appered in title</th>\n",
       "      <th>views</th>\n",
       "      <th>Unnamed: 17</th>\n",
       "      <th>Unnamed: 18</th>\n",
       "    </tr>\n",
       "    <tr>\n",
       "      <th>Video_id</th>\n",
       "      <th></th>\n",
       "      <th></th>\n",
       "      <th></th>\n",
       "      <th></th>\n",
       "      <th></th>\n",
       "      <th></th>\n",
       "      <th></th>\n",
       "      <th></th>\n",
       "      <th></th>\n",
       "      <th></th>\n",
       "      <th></th>\n",
       "      <th></th>\n",
       "      <th></th>\n",
       "      <th></th>\n",
       "      <th></th>\n",
       "      <th></th>\n",
       "      <th></th>\n",
       "      <th></th>\n",
       "    </tr>\n",
       "  </thead>\n",
       "  <tbody>\n",
       "    <tr>\n",
       "      <th>HDR9SQc79</th>\n",
       "      <td>22</td>\n",
       "      <td>CaseyNeistat</td>\n",
       "      <td>9086142.0</td>\n",
       "      <td>WE WANT TO TALK ABOUT OUR MARRIAGE</td>\n",
       "      <td>SHANtell martin</td>\n",
       "      <td>SHANTELL'S CHANNEL - https://www.youtube.com/s...</td>\n",
       "      <td>6.0</td>\n",
       "      <td>21</td>\n",
       "      <td>6</td>\n",
       "      <td></td>\n",
       "      <td>FALSE</td>\n",
       "      <td>FALSE</td>\n",
       "      <td>13342</td>\n",
       "      <td>6089</td>\n",
       "      <td>False</td>\n",
       "      <td>1978978</td>\n",
       "      <td>NaN</td>\n",
       "      <td>NaN</td>\n",
       "    </tr>\n",
       "    <tr>\n",
       "      <th>KNH52UF?48</th>\n",
       "      <td>24</td>\n",
       "      <td>LastWeekTonight</td>\n",
       "      <td>5937292.0</td>\n",
       "      <td>The Trump Presidency: Last Week Tonight with J...</td>\n",
       "      <td>last week tonight trump presidency|last week t...</td>\n",
       "      <td>One year after the presidential election, John...</td>\n",
       "      <td>1.0</td>\n",
       "      <td>23</td>\n",
       "      <td>1</td>\n",
       "      <td>116266</td>\n",
       "      <td>TRUE</td>\n",
       "      <td>FALSE</td>\n",
       "      <td>5761</td>\n",
       "      <td>3044</td>\n",
       "      <td>False</td>\n",
       "      <td>1487870</td>\n",
       "      <td>NaN</td>\n",
       "      <td>NaN</td>\n",
       "    </tr>\n",
       "    <tr>\n",
       "      <th>QTW28IRG36</th>\n",
       "      <td>23</td>\n",
       "      <td>Rudy Mancuso</td>\n",
       "      <td>4191209.0</td>\n",
       "      <td>Racist Superman | Rudy Mancuso, King Bach &amp; Le...</td>\n",
       "      <td>racist superman|rudy|mancuso|king|bach|racist|...</td>\n",
       "      <td>WATCH MY PREVIOUS VIDEO ▶ \\n\\nSUBSCRIBE ► http...</td>\n",
       "      <td>10.0</td>\n",
       "      <td>22</td>\n",
       "      <td>3</td>\n",
       "      <td>257850</td>\n",
       "      <td>TRUE</td>\n",
       "      <td>TRUE</td>\n",
       "      <td>0</td>\n",
       "      <td>0</td>\n",
       "      <td>True</td>\n",
       "      <td>1502102</td>\n",
       "      <td>NaN</td>\n",
       "      <td>NaN</td>\n",
       "    </tr>\n",
       "    <tr>\n",
       "      <th>MGL76WI]26</th>\n",
       "      <td>24</td>\n",
       "      <td>Good Mythical Morning</td>\n",
       "      <td>13186408.0</td>\n",
       "      <td>Nickelback Lyrics: Real or Fake?</td>\n",
       "      <td>rhett and link|gmm|good mythical morning|rhett...</td>\n",
       "      <td>Today we find out if Link is a Nickelback amat...</td>\n",
       "      <td>12.0</td>\n",
       "      <td>17</td>\n",
       "      <td>5</td>\n",
       "      <td>263939</td>\n",
       "      <td>TRUE</td>\n",
       "      <td>TRUE</td>\n",
       "      <td>0</td>\n",
       "      <td>0</td>\n",
       "      <td>True</td>\n",
       "      <td>3519302</td>\n",
       "      <td>NaN</td>\n",
       "      <td>NaN</td>\n",
       "    </tr>\n",
       "    <tr>\n",
       "      <th>TWP93KXT70</th>\n",
       "      <td>24</td>\n",
       "      <td>nigahiga</td>\n",
       "      <td>20563106.0</td>\n",
       "      <td>I Dare You: GOING BALD!?</td>\n",
       "      <td>ryan|higa|higatv|nigahiga|i dare you|idy|rhpc|...</td>\n",
       "      <td>I know it's been a while since we did this sho...</td>\n",
       "      <td>11.0</td>\n",
       "      <td>15</td>\n",
       "      <td>7</td>\n",
       "      <td>268085</td>\n",
       "      <td>TRUE</td>\n",
       "      <td>TRUE</td>\n",
       "      <td>0</td>\n",
       "      <td>0</td>\n",
       "      <td>True</td>\n",
       "      <td>4835374</td>\n",
       "      <td>NaN</td>\n",
       "      <td>NaN</td>\n",
       "    </tr>\n",
       "  </tbody>\n",
       "</table>\n",
       "</div>"
      ],
      "text/plain": [
       "           category_id          channel_title  subscriber  \\\n",
       "Video_id                                                    \n",
       "HDR9SQc79           22           CaseyNeistat   9086142.0   \n",
       "KNH52UF?48          24        LastWeekTonight   5937292.0   \n",
       "QTW28IRG36          23           Rudy Mancuso   4191209.0   \n",
       "MGL76WI]26          24  Good Mythical Morning  13186408.0   \n",
       "TWP93KXT70          24               nigahiga  20563106.0   \n",
       "\n",
       "                                                        title  \\\n",
       "Video_id                                                        \n",
       "HDR9SQc79                  WE WANT TO TALK ABOUT OUR MARRIAGE   \n",
       "KNH52UF?48  The Trump Presidency: Last Week Tonight with J...   \n",
       "QTW28IRG36  Racist Superman | Rudy Mancuso, King Bach & Le...   \n",
       "MGL76WI]26                   Nickelback Lyrics: Real or Fake?   \n",
       "TWP93KXT70                           I Dare You: GOING BALD!?   \n",
       "\n",
       "                                                         tags  \\\n",
       "Video_id                                                        \n",
       "HDR9SQc79                                     SHANtell martin   \n",
       "KNH52UF?48  last week tonight trump presidency|last week t...   \n",
       "QTW28IRG36  racist superman|rudy|mancuso|king|bach|racist|...   \n",
       "MGL76WI]26  rhett and link|gmm|good mythical morning|rhett...   \n",
       "TWP93KXT70  ryan|higa|higatv|nigahiga|i dare you|idy|rhpc|...   \n",
       "\n",
       "                                                  description  \\\n",
       "Video_id                                                        \n",
       "HDR9SQc79   SHANTELL'S CHANNEL - https://www.youtube.com/s...   \n",
       "KNH52UF?48  One year after the presidential election, John...   \n",
       "QTW28IRG36  WATCH MY PREVIOUS VIDEO ▶ \\n\\nSUBSCRIBE ► http...   \n",
       "MGL76WI]26  Today we find out if Link is a Nickelback amat...   \n",
       "TWP93KXT70  I know it's been a while since we did this sho...   \n",
       "\n",
       "            Trend_day_count Tag_count Trend_tag_count comment_count  \\\n",
       "Video_id                                                              \n",
       "HDR9SQc79               6.0        21               6                 \n",
       "KNH52UF?48              1.0        23               1        116266   \n",
       "QTW28IRG36             10.0        22               3        257850   \n",
       "MGL76WI]26             12.0        17               5        263939   \n",
       "TWP93KXT70             11.0        15               7        268085   \n",
       "\n",
       "           comment_disabled like dislike disabled  likes dislike  \\\n",
       "Video_id                                                           \n",
       "HDR9SQc79             FALSE                 FALSE  13342    6089   \n",
       "KNH52UF?48             TRUE                 FALSE   5761    3044   \n",
       "QTW28IRG36             TRUE                  TRUE      0       0   \n",
       "MGL76WI]26             TRUE                  TRUE      0       0   \n",
       "TWP93KXT70             TRUE                  TRUE      0       0   \n",
       "\n",
       "           tag appered in title    views  Unnamed: 17 Unnamed: 18  \n",
       "Video_id                                                           \n",
       "HDR9SQc79                 False  1978978          NaN         NaN  \n",
       "KNH52UF?48                False  1487870          NaN         NaN  \n",
       "QTW28IRG36                 True  1502102          NaN         NaN  \n",
       "MGL76WI]26                 True  3519302          NaN         NaN  \n",
       "TWP93KXT70                 True  4835374          NaN         NaN  "
      ]
     },
     "execution_count": 2,
     "metadata": {},
     "output_type": "execute_result"
    }
   ],
   "source": [
    "df=pd.read_csv(r\"C:\\Users\\Preeti\\Desktop\\train.csv\",index_col=0)\n",
    "df.head()"
   ]
  },
  {
   "cell_type": "markdown",
   "metadata": {},
   "source": [
    "DATA PREPARATION AND CLEANING"
   ]
  },
  {
   "cell_type": "code",
   "execution_count": 3,
   "metadata": {},
   "outputs": [
    {
     "data": {
      "text/plain": [
       "(3198, 18)"
      ]
     },
     "execution_count": 3,
     "metadata": {},
     "output_type": "execute_result"
    }
   ],
   "source": [
    "#CHECK THE SHAPE\n",
    "df.shape"
   ]
  },
  {
   "cell_type": "code",
   "execution_count": 4,
   "metadata": {},
   "outputs": [
    {
     "data": {
      "text/plain": [
       "Index(['category_id', 'channel_title', 'subscriber', 'title', 'tags',\n",
       "       'description', 'Trend_day_count', 'Tag_count', 'Trend_tag_count',\n",
       "       'comment_count', 'comment_disabled', 'like dislike disabled', 'likes',\n",
       "       'dislike', 'tag appered in title', 'views', 'Unnamed: 17',\n",
       "       'Unnamed: 18'],\n",
       "      dtype='object')"
      ]
     },
     "execution_count": 4,
     "metadata": {},
     "output_type": "execute_result"
    }
   ],
   "source": [
    "#CHECK THE COLUMNS\n",
    "df.columns"
   ]
  },
  {
   "cell_type": "markdown",
   "metadata": {},
   "source": [
    "CHECK THE NUMERICAL DATA"
   ]
  },
  {
   "cell_type": "code",
   "execution_count": 5,
   "metadata": {},
   "outputs": [
    {
     "data": {
      "text/html": [
       "<div>\n",
       "<style scoped>\n",
       "    .dataframe tbody tr th:only-of-type {\n",
       "        vertical-align: middle;\n",
       "    }\n",
       "\n",
       "    .dataframe tbody tr th {\n",
       "        vertical-align: top;\n",
       "    }\n",
       "\n",
       "    .dataframe thead th {\n",
       "        text-align: right;\n",
       "    }\n",
       "</style>\n",
       "<table border=\"1\" class=\"dataframe\">\n",
       "  <thead>\n",
       "    <tr style=\"text-align: right;\">\n",
       "      <th></th>\n",
       "      <th>subscriber</th>\n",
       "      <th>Trend_day_count</th>\n",
       "      <th>Unnamed: 17</th>\n",
       "    </tr>\n",
       "  </thead>\n",
       "  <tbody>\n",
       "    <tr>\n",
       "      <th>count</th>\n",
       "      <td>3.175000e+03</td>\n",
       "      <td>3197.000000</td>\n",
       "      <td>1.0</td>\n",
       "    </tr>\n",
       "    <tr>\n",
       "      <th>mean</th>\n",
       "      <td>3.823981e+06</td>\n",
       "      <td>7.964342</td>\n",
       "      <td>2544.0</td>\n",
       "    </tr>\n",
       "    <tr>\n",
       "      <th>std</th>\n",
       "      <td>2.865771e+07</td>\n",
       "      <td>78.556055</td>\n",
       "      <td>NaN</td>\n",
       "    </tr>\n",
       "    <tr>\n",
       "      <th>min</th>\n",
       "      <td>0.000000e+00</td>\n",
       "      <td>0.000000</td>\n",
       "      <td>2544.0</td>\n",
       "    </tr>\n",
       "    <tr>\n",
       "      <th>25%</th>\n",
       "      <td>2.428800e+05</td>\n",
       "      <td>4.000000</td>\n",
       "      <td>2544.0</td>\n",
       "    </tr>\n",
       "    <tr>\n",
       "      <th>50%</th>\n",
       "      <td>1.241220e+06</td>\n",
       "      <td>7.000000</td>\n",
       "      <td>2544.0</td>\n",
       "    </tr>\n",
       "    <tr>\n",
       "      <th>75%</th>\n",
       "      <td>3.812622e+06</td>\n",
       "      <td>10.000000</td>\n",
       "      <td>2544.0</td>\n",
       "    </tr>\n",
       "    <tr>\n",
       "      <th>max</th>\n",
       "      <td>1.576229e+09</td>\n",
       "      <td>4444.000000</td>\n",
       "      <td>2544.0</td>\n",
       "    </tr>\n",
       "  </tbody>\n",
       "</table>\n",
       "</div>"
      ],
      "text/plain": [
       "         subscriber  Trend_day_count  Unnamed: 17\n",
       "count  3.175000e+03      3197.000000          1.0\n",
       "mean   3.823981e+06         7.964342       2544.0\n",
       "std    2.865771e+07        78.556055          NaN\n",
       "min    0.000000e+00         0.000000       2544.0\n",
       "25%    2.428800e+05         4.000000       2544.0\n",
       "50%    1.241220e+06         7.000000       2544.0\n",
       "75%    3.812622e+06        10.000000       2544.0\n",
       "max    1.576229e+09      4444.000000       2544.0"
      ]
     },
     "execution_count": 5,
     "metadata": {},
     "output_type": "execute_result"
    }
   ],
   "source": [
    "df.describe()"
   ]
  },
  {
   "cell_type": "code",
   "execution_count": 6,
   "metadata": {},
   "outputs": [
    {
     "data": {
      "text/plain": [
       "3"
      ]
     },
     "execution_count": 6,
     "metadata": {},
     "output_type": "execute_result"
    }
   ],
   "source": [
    "numerics = ['int16', 'int32', 'int64', 'float16', 'float32', 'float64']\n",
    "\n",
    "numdf = df.select_dtypes(include=numerics)\n",
    "len(numdf.columns)"
   ]
  },
  {
   "cell_type": "markdown",
   "metadata": {},
   "source": [
    "CHECK THE NULL VALUES"
   ]
  },
  {
   "cell_type": "code",
   "execution_count": 7,
   "metadata": {},
   "outputs": [
    {
     "data": {
      "text/plain": [
       "category_id                 6\n",
       "channel_title               3\n",
       "subscriber                 23\n",
       "title                       3\n",
       "tags                      152\n",
       "description                65\n",
       "Trend_day_count             1\n",
       "Tag_count                   1\n",
       "Trend_tag_count             1\n",
       "comment_count               0\n",
       "comment_disabled            0\n",
       "like dislike disabled       0\n",
       "likes                       0\n",
       "dislike                     0\n",
       "tag appered in title        1\n",
       "views                       0\n",
       "Unnamed: 17              3197\n",
       "Unnamed: 18              3197\n",
       "dtype: int64"
      ]
     },
     "execution_count": 7,
     "metadata": {},
     "output_type": "execute_result"
    }
   ],
   "source": [
    "df.isnull().sum()"
   ]
  },
  {
   "cell_type": "code",
   "execution_count": 8,
   "metadata": {},
   "outputs": [
    {
     "data": {
      "text/plain": [
       "Unnamed: 18              0.999687\n",
       "Unnamed: 17              0.999687\n",
       "tags                     0.047530\n",
       "description              0.020325\n",
       "subscriber               0.007192\n",
       "category_id              0.001876\n",
       "channel_title            0.000938\n",
       "title                    0.000938\n",
       "Trend_day_count          0.000313\n",
       "Tag_count                0.000313\n",
       "Trend_tag_count          0.000313\n",
       "tag appered in title     0.000313\n",
       "comment_disabled         0.000000\n",
       "like dislike disabled    0.000000\n",
       "likes                    0.000000\n",
       "dislike                  0.000000\n",
       "views                    0.000000\n",
       "comment_count            0.000000\n",
       "dtype: float64"
      ]
     },
     "execution_count": 8,
     "metadata": {},
     "output_type": "execute_result"
    }
   ],
   "source": [
    "missing_percentage=df.isna().sum().sort_values(ascending=False)/len(df)\n",
    "missing_percentage"
   ]
  },
  {
   "cell_type": "code",
   "execution_count": 9,
   "metadata": {},
   "outputs": [
    {
     "data": {
      "text/plain": [
       "<AxesSubplot:>"
      ]
     },
     "execution_count": 9,
     "metadata": {},
     "output_type": "execute_result"
    },
    {
     "data": {
      "image/png": "[encoded data removed]",
      "text/plain": [
       "<Figure size 432x288 with 1 Axes>"
      ]
     },
     "metadata": {},
     "output_type": "display_data"
    }
   ],
   "source": [
    "missing_percentage[missing_percentage!=0].plot(kind='barh')"
   ]
  },
  {
   "cell_type": "markdown",
   "metadata": {},
   "source": [
    "REMOVING THE UNUSED COLUMN"
   ]
  },
  {
   "cell_type": "code",
   "execution_count": 10,
   "metadata": {},
   "outputs": [
    {
     "data": {
      "text/html": [
       "<div>\n",
       "<style scoped>\n",
       "    .dataframe tbody tr th:only-of-type {\n",
       "        vertical-align: middle;\n",
       "    }\n",
       "\n",
       "    .dataframe tbody tr th {\n",
       "        vertical-align: top;\n",
       "    }\n",
       "\n",
       "    .dataframe thead th {\n",
       "        text-align: right;\n",
       "    }\n",
       "</style>\n",
       "<table border=\"1\" class=\"dataframe\">\n",
       "  <thead>\n",
       "    <tr style=\"text-align: right;\">\n",
       "      <th></th>\n",
       "      <th>category_id</th>\n",
       "      <th>channel_title</th>\n",
       "      <th>subscriber</th>\n",
       "      <th>title</th>\n",
       "      <th>tags</th>\n",
       "      <th>description</th>\n",
       "      <th>Trend_day_count</th>\n",
       "      <th>Tag_count</th>\n",
       "      <th>Trend_tag_count</th>\n",
       "      <th>comment_count</th>\n",
       "      <th>comment_disabled</th>\n",
       "      <th>like dislike disabled</th>\n",
       "      <th>likes</th>\n",
       "      <th>dislike</th>\n",
       "      <th>tag appered in title</th>\n",
       "      <th>views</th>\n",
       "    </tr>\n",
       "    <tr>\n",
       "      <th>Video_id</th>\n",
       "      <th></th>\n",
       "      <th></th>\n",
       "      <th></th>\n",
       "      <th></th>\n",
       "      <th></th>\n",
       "      <th></th>\n",
       "      <th></th>\n",
       "      <th></th>\n",
       "      <th></th>\n",
       "      <th></th>\n",
       "      <th></th>\n",
       "      <th></th>\n",
       "      <th></th>\n",
       "      <th></th>\n",
       "      <th></th>\n",
       "      <th></th>\n",
       "    </tr>\n",
       "  </thead>\n",
       "  <tbody>\n",
       "    <tr>\n",
       "      <th>HDR9SQc79</th>\n",
       "      <td>22</td>\n",
       "      <td>CaseyNeistat</td>\n",
       "      <td>9086142.0</td>\n",
       "      <td>WE WANT TO TALK ABOUT OUR MARRIAGE</td>\n",
       "      <td>SHANtell martin</td>\n",
       "      <td>SHANTELL'S CHANNEL - https://www.youtube.com/s...</td>\n",
       "      <td>6.0</td>\n",
       "      <td>21</td>\n",
       "      <td>6</td>\n",
       "      <td></td>\n",
       "      <td>FALSE</td>\n",
       "      <td>FALSE</td>\n",
       "      <td>13342</td>\n",
       "      <td>6089</td>\n",
       "      <td>False</td>\n",
       "      <td>1978978</td>\n",
       "    </tr>\n",
       "    <tr>\n",
       "      <th>KNH52UF?48</th>\n",
       "      <td>24</td>\n",
       "      <td>LastWeekTonight</td>\n",
       "      <td>5937292.0</td>\n",
       "      <td>The Trump Presidency: Last Week Tonight with J...</td>\n",
       "      <td>last week tonight trump presidency|last week t...</td>\n",
       "      <td>One year after the presidential election, John...</td>\n",
       "      <td>1.0</td>\n",
       "      <td>23</td>\n",
       "      <td>1</td>\n",
       "      <td>116266</td>\n",
       "      <td>TRUE</td>\n",
       "      <td>FALSE</td>\n",
       "      <td>5761</td>\n",
       "      <td>3044</td>\n",
       "      <td>False</td>\n",
       "      <td>1487870</td>\n",
       "    </tr>\n",
       "    <tr>\n",
       "      <th>QTW28IRG36</th>\n",
       "      <td>23</td>\n",
       "      <td>Rudy Mancuso</td>\n",
       "      <td>4191209.0</td>\n",
       "      <td>Racist Superman | Rudy Mancuso, King Bach &amp; Le...</td>\n",
       "      <td>racist superman|rudy|mancuso|king|bach|racist|...</td>\n",
       "      <td>WATCH MY PREVIOUS VIDEO ▶ \\n\\nSUBSCRIBE ► http...</td>\n",
       "      <td>10.0</td>\n",
       "      <td>22</td>\n",
       "      <td>3</td>\n",
       "      <td>257850</td>\n",
       "      <td>TRUE</td>\n",
       "      <td>TRUE</td>\n",
       "      <td>0</td>\n",
       "      <td>0</td>\n",
       "      <td>True</td>\n",
       "      <td>1502102</td>\n",
       "    </tr>\n",
       "  </tbody>\n",
       "</table>\n",
       "</div>"
      ],
      "text/plain": [
       "           category_id    channel_title  subscriber  \\\n",
       "Video_id                                              \n",
       "HDR9SQc79           22     CaseyNeistat   9086142.0   \n",
       "KNH52UF?48          24  LastWeekTonight   5937292.0   \n",
       "QTW28IRG36          23     Rudy Mancuso   4191209.0   \n",
       "\n",
       "                                                        title  \\\n",
       "Video_id                                                        \n",
       "HDR9SQc79                  WE WANT TO TALK ABOUT OUR MARRIAGE   \n",
       "KNH52UF?48  The Trump Presidency: Last Week Tonight with J...   \n",
       "QTW28IRG36  Racist Superman | Rudy Mancuso, King Bach & Le...   \n",
       "\n",
       "                                                         tags  \\\n",
       "Video_id                                                        \n",
       "HDR9SQc79                                     SHANtell martin   \n",
       "KNH52UF?48  last week tonight trump presidency|last week t...   \n",
       "QTW28IRG36  racist superman|rudy|mancuso|king|bach|racist|...   \n",
       "\n",
       "                                                  description  \\\n",
       "Video_id                                                        \n",
       "HDR9SQc79   SHANTELL'S CHANNEL - https://www.youtube.com/s...   \n",
       "KNH52UF?48  One year after the presidential election, John...   \n",
       "QTW28IRG36  WATCH MY PREVIOUS VIDEO ▶ \\n\\nSUBSCRIBE ► http...   \n",
       "\n",
       "            Trend_day_count Tag_count Trend_tag_count comment_count  \\\n",
       "Video_id                                                              \n",
       "HDR9SQc79               6.0        21               6                 \n",
       "KNH52UF?48              1.0        23               1        116266   \n",
       "QTW28IRG36             10.0        22               3        257850   \n",
       "\n",
       "           comment_disabled like dislike disabled  likes dislike  \\\n",
       "Video_id                                                           \n",
       "HDR9SQc79             FALSE                 FALSE  13342    6089   \n",
       "KNH52UF?48             TRUE                 FALSE   5761    3044   \n",
       "QTW28IRG36             TRUE                  TRUE      0       0   \n",
       "\n",
       "           tag appered in title    views  \n",
       "Video_id                                  \n",
       "HDR9SQc79                 False  1978978  \n",
       "KNH52UF?48                False  1487870  \n",
       "QTW28IRG36                 True  1502102  "
      ]
     },
     "execution_count": 10,
     "metadata": {},
     "output_type": "execute_result"
    }
   ],
   "source": [
    "df.drop(columns=['Unnamed: 17','Unnamed: 18'],inplace=True) \n",
    "df.head(3)"
   ]
  },
  {
   "cell_type": "markdown",
   "metadata": {},
   "source": [
    "FILLING NULL VALUES"
   ]
  },
  {
   "cell_type": "code",
   "execution_count": 11,
   "metadata": {},
   "outputs": [],
   "source": [
    "df=df.fillna(0)"
   ]
  },
  {
   "cell_type": "code",
   "execution_count": 12,
   "metadata": {},
   "outputs": [
    {
     "data": {
      "text/plain": [
       "category_id              0\n",
       "channel_title            0\n",
       "subscriber               0\n",
       "title                    0\n",
       "tags                     0\n",
       "description              0\n",
       "Trend_day_count          0\n",
       "Tag_count                0\n",
       "Trend_tag_count          0\n",
       "comment_count            0\n",
       "comment_disabled         0\n",
       "like dislike disabled    0\n",
       "likes                    0\n",
       "dislike                  0\n",
       "tag appered in title     0\n",
       "views                    0\n",
       "dtype: int64"
      ]
     },
     "execution_count": 12,
     "metadata": {},
     "output_type": "execute_result"
    }
   ],
   "source": [
    "df.isnull().sum()"
   ]
  },
  {
   "cell_type": "markdown",
   "metadata": {},
   "source": [
    "CHECKING THE DATA TYPE"
   ]
  },
  {
   "cell_type": "code",
   "execution_count": 13,
   "metadata": {},
   "outputs": [
    {
     "data": {
      "text/plain": [
       "category_id               object\n",
       "channel_title             object\n",
       "subscriber               float64\n",
       "title                     object\n",
       "tags                      object\n",
       "description               object\n",
       "Trend_day_count          float64\n",
       "Tag_count                 object\n",
       "Trend_tag_count           object\n",
       "comment_count             object\n",
       "comment_disabled          object\n",
       "like dislike disabled     object\n",
       "likes                     object\n",
       "dislike                   object\n",
       "tag appered in title      object\n",
       "views                     object\n",
       "dtype: object"
      ]
     },
     "execution_count": 13,
     "metadata": {},
     "output_type": "execute_result"
    }
   ],
   "source": [
    "df.dtypes"
   ]
  },
  {
   "cell_type": "markdown",
   "metadata": {},
   "source": [
    "RENAMING THE COLUMN"
   ]
  },
  {
   "cell_type": "code",
   "execution_count": 14,
   "metadata": {},
   "outputs": [],
   "source": [
    "df.rename(columns={'Video_id':'V_id','category_id':'Cat_id','channel_title':'Ch_Title','subscriber': 'SubCbr','title':'V_Title','description':'Desc','comment_count':'Cmt_ct','likes':'Likes','dislike':'Dislikes','views':'Views','tags':'Tags','comment_disabled':'com_dis','like dislike disabled':'L/DL_Dis','tag appeared in title':'Tag_Title'},inplace=True)"
   ]
  },
  {
   "cell_type": "code",
   "execution_count": 15,
   "metadata": {},
   "outputs": [
    {
     "data": {
      "text/html": [
       "<div>\n",
       "<style scoped>\n",
       "    .dataframe tbody tr th:only-of-type {\n",
       "        vertical-align: middle;\n",
       "    }\n",
       "\n",
       "    .dataframe tbody tr th {\n",
       "        vertical-align: top;\n",
       "    }\n",
       "\n",
       "    .dataframe thead th {\n",
       "        text-align: right;\n",
       "    }\n",
       "</style>\n",
       "<table border=\"1\" class=\"dataframe\">\n",
       "  <thead>\n",
       "    <tr style=\"text-align: right;\">\n",
       "      <th></th>\n",
       "      <th>Cat_id</th>\n",
       "      <th>Ch_Title</th>\n",
       "      <th>SubCbr</th>\n",
       "      <th>V_Title</th>\n",
       "      <th>Tags</th>\n",
       "      <th>Desc</th>\n",
       "      <th>Trend_day_count</th>\n",
       "      <th>Tag_count</th>\n",
       "      <th>Trend_tag_count</th>\n",
       "      <th>Cmt_ct</th>\n",
       "      <th>com_dis</th>\n",
       "      <th>L/DL_Dis</th>\n",
       "      <th>Likes</th>\n",
       "      <th>Dislikes</th>\n",
       "      <th>tag appered in title</th>\n",
       "      <th>Views</th>\n",
       "    </tr>\n",
       "    <tr>\n",
       "      <th>Video_id</th>\n",
       "      <th></th>\n",
       "      <th></th>\n",
       "      <th></th>\n",
       "      <th></th>\n",
       "      <th></th>\n",
       "      <th></th>\n",
       "      <th></th>\n",
       "      <th></th>\n",
       "      <th></th>\n",
       "      <th></th>\n",
       "      <th></th>\n",
       "      <th></th>\n",
       "      <th></th>\n",
       "      <th></th>\n",
       "      <th></th>\n",
       "      <th></th>\n",
       "    </tr>\n",
       "  </thead>\n",
       "  <tbody>\n",
       "    <tr>\n",
       "      <th>HDR9SQc79</th>\n",
       "      <td>22</td>\n",
       "      <td>CaseyNeistat</td>\n",
       "      <td>9086142.0</td>\n",
       "      <td>WE WANT TO TALK ABOUT OUR MARRIAGE</td>\n",
       "      <td>SHANtell martin</td>\n",
       "      <td>SHANTELL'S CHANNEL - https://www.youtube.com/s...</td>\n",
       "      <td>6.0</td>\n",
       "      <td>21</td>\n",
       "      <td>6</td>\n",
       "      <td></td>\n",
       "      <td>FALSE</td>\n",
       "      <td>FALSE</td>\n",
       "      <td>13342</td>\n",
       "      <td>6089</td>\n",
       "      <td>False</td>\n",
       "      <td>1978978</td>\n",
       "    </tr>\n",
       "    <tr>\n",
       "      <th>KNH52UF?48</th>\n",
       "      <td>24</td>\n",
       "      <td>LastWeekTonight</td>\n",
       "      <td>5937292.0</td>\n",
       "      <td>The Trump Presidency: Last Week Tonight with J...</td>\n",
       "      <td>last week tonight trump presidency|last week t...</td>\n",
       "      <td>One year after the presidential election, John...</td>\n",
       "      <td>1.0</td>\n",
       "      <td>23</td>\n",
       "      <td>1</td>\n",
       "      <td>116266</td>\n",
       "      <td>TRUE</td>\n",
       "      <td>FALSE</td>\n",
       "      <td>5761</td>\n",
       "      <td>3044</td>\n",
       "      <td>False</td>\n",
       "      <td>1487870</td>\n",
       "    </tr>\n",
       "    <tr>\n",
       "      <th>QTW28IRG36</th>\n",
       "      <td>23</td>\n",
       "      <td>Rudy Mancuso</td>\n",
       "      <td>4191209.0</td>\n",
       "      <td>Racist Superman | Rudy Mancuso, King Bach &amp; Le...</td>\n",
       "      <td>racist superman|rudy|mancuso|king|bach|racist|...</td>\n",
       "      <td>WATCH MY PREVIOUS VIDEO ▶ \\n\\nSUBSCRIBE ► http...</td>\n",
       "      <td>10.0</td>\n",
       "      <td>22</td>\n",
       "      <td>3</td>\n",
       "      <td>257850</td>\n",
       "      <td>TRUE</td>\n",
       "      <td>TRUE</td>\n",
       "      <td>0</td>\n",
       "      <td>0</td>\n",
       "      <td>True</td>\n",
       "      <td>1502102</td>\n",
       "    </tr>\n",
       "  </tbody>\n",
       "</table>\n",
       "</div>"
      ],
      "text/plain": [
       "           Cat_id         Ch_Title     SubCbr  \\\n",
       "Video_id                                        \n",
       "HDR9SQc79      22     CaseyNeistat  9086142.0   \n",
       "KNH52UF?48     24  LastWeekTonight  5937292.0   \n",
       "QTW28IRG36     23     Rudy Mancuso  4191209.0   \n",
       "\n",
       "                                                      V_Title  \\\n",
       "Video_id                                                        \n",
       "HDR9SQc79                  WE WANT TO TALK ABOUT OUR MARRIAGE   \n",
       "KNH52UF?48  The Trump Presidency: Last Week Tonight with J...   \n",
       "QTW28IRG36  Racist Superman | Rudy Mancuso, King Bach & Le...   \n",
       "\n",
       "                                                         Tags  \\\n",
       "Video_id                                                        \n",
       "HDR9SQc79                                     SHANtell martin   \n",
       "KNH52UF?48  last week tonight trump presidency|last week t...   \n",
       "QTW28IRG36  racist superman|rudy|mancuso|king|bach|racist|...   \n",
       "\n",
       "                                                         Desc  \\\n",
       "Video_id                                                        \n",
       "HDR9SQc79   SHANTELL'S CHANNEL - https://www.youtube.com/s...   \n",
       "KNH52UF?48  One year after the presidential election, John...   \n",
       "QTW28IRG36  WATCH MY PREVIOUS VIDEO ▶ \\n\\nSUBSCRIBE ► http...   \n",
       "\n",
       "            Trend_day_count Tag_count Trend_tag_count  Cmt_ct com_dis  \\\n",
       "Video_id                                                                \n",
       "HDR9SQc79               6.0        21               6           FALSE   \n",
       "KNH52UF?48              1.0        23               1  116266    TRUE   \n",
       "QTW28IRG36             10.0        22               3  257850    TRUE   \n",
       "\n",
       "           L/DL_Dis  Likes Dislikes tag appered in title    Views  \n",
       "Video_id                                                           \n",
       "HDR9SQc79     FALSE  13342     6089                False  1978978  \n",
       "KNH52UF?48    FALSE   5761     3044                False  1487870  \n",
       "QTW28IRG36     TRUE      0        0                 True  1502102  "
      ]
     },
     "execution_count": 15,
     "metadata": {},
     "output_type": "execute_result"
    }
   ],
   "source": [
    "df[:3]"
   ]
  },
  {
   "cell_type": "markdown",
   "metadata": {},
   "source": [
    "CHECKING UNIQUE VALUES"
   ]
  },
  {
   "cell_type": "code",
   "execution_count": 16,
   "metadata": {},
   "outputs": [
    {
     "data": {
      "text/plain": [
       "Cat_id                    18\n",
       "Ch_Title                1502\n",
       "SubCbr                  1452\n",
       "V_Title                 3192\n",
       "Tags                    2947\n",
       "Desc                    3098\n",
       "Trend_day_count           14\n",
       "Tag_count                 23\n",
       "Trend_tag_count           11\n",
       "Cmt_ct                  2174\n",
       "com_dis                    3\n",
       "L/DL_Dis                   3\n",
       "Likes                   2210\n",
       "Dislikes                2155\n",
       "tag appered in title       2\n",
       "Views                   3194\n",
       "dtype: int64"
      ]
     },
     "execution_count": 16,
     "metadata": {},
     "output_type": "execute_result"
    }
   ],
   "source": [
    "df.nunique()"
   ]
  },
  {
   "cell_type": "markdown",
   "metadata": {},
   "source": [
    "RELATIONSHIP ANALYSIS"
   ]
  },
  {
   "cell_type": "code",
   "execution_count": 17,
   "metadata": {},
   "outputs": [],
   "source": [
    "correlation=df.corr()"
   ]
  },
  {
   "cell_type": "code",
   "execution_count": 18,
   "metadata": {},
   "outputs": [
    {
     "data": {
      "text/plain": [
       "<AxesSubplot:>"
      ]
     },
     "execution_count": 18,
     "metadata": {},
     "output_type": "execute_result"
    },
    {
     "data": {
      "image/png": "[encoded data removed]",
      "text/plain": [
       "<Figure size 432x288 with 2 Axes>"
      ]
     },
     "metadata": {},
     "output_type": "display_data"
    }
   ],
   "source": [
    "sns.heatmap(correlation,xticklabels=correlation.columns,yticklabels=correlation.columns,annot=True)"
   ]
  },
  {
   "cell_type": "code",
   "execution_count": 19,
   "metadata": {},
   "outputs": [
    {
     "data": {
      "text/plain": [
       "<seaborn.axisgrid.PairGrid at 0x1a6506fa6d0>"
      ]
     },
     "execution_count": 19,
     "metadata": {},
     "output_type": "execute_result"
    },
    {
     "data": {
      "image/png": "[encoded data removed]",
      "text/plain": [
       "<Figure size 540x540 with 12 Axes>"
      ]
     },
     "metadata": {},
     "output_type": "display_data"
    }
   ],
   "source": [
    "sns.pairplot(df)"
   ]
  },
  {
   "cell_type": "markdown",
   "metadata": {},
   "source": [
    "TOP 10 LIKED VIDEO"
   ]
  },
  {
   "cell_type": "code",
   "execution_count": 20,
   "metadata": {},
   "outputs": [],
   "source": [
    "M_likes=df.sort_values(by=['Likes'],ascending=[False],kind='mergesort')\n"
   ]
  },
  {
   "cell_type": "code",
   "execution_count": 21,
   "metadata": {},
   "outputs": [
    {
     "data": {
      "text/html": [
       "<div>\n",
       "<style scoped>\n",
       "    .dataframe tbody tr th:only-of-type {\n",
       "        vertical-align: middle;\n",
       "    }\n",
       "\n",
       "    .dataframe tbody tr th {\n",
       "        vertical-align: top;\n",
       "    }\n",
       "\n",
       "    .dataframe thead th {\n",
       "        text-align: right;\n",
       "    }\n",
       "</style>\n",
       "<table border=\"1\" class=\"dataframe\">\n",
       "  <thead>\n",
       "    <tr style=\"text-align: right;\">\n",
       "      <th></th>\n",
       "      <th>V_Title</th>\n",
       "      <th>Cat_id</th>\n",
       "      <th>Likes</th>\n",
       "    </tr>\n",
       "  </thead>\n",
       "  <tbody>\n",
       "    <tr>\n",
       "      <th>1</th>\n",
       "      <td>BEST MAKEUP OF 2017!</td>\n",
       "      <td>26</td>\n",
       "      <td>9983</td>\n",
       "    </tr>\n",
       "    <tr>\n",
       "      <th>2</th>\n",
       "      <td>Why Is Jerusalem a Controversial Capital?</td>\n",
       "      <td>25</td>\n",
       "      <td>9974</td>\n",
       "    </tr>\n",
       "    <tr>\n",
       "      <th>3</th>\n",
       "      <td>Animal Adventure Park Giraffe Cam</td>\n",
       "      <td>15</td>\n",
       "      <td>9959</td>\n",
       "    </tr>\n",
       "    <tr>\n",
       "      <th>4</th>\n",
       "      <td>Luke Bryan - Out Of Nowhere Girl (Audio)</td>\n",
       "      <td>10</td>\n",
       "      <td>9956</td>\n",
       "    </tr>\n",
       "    <tr>\n",
       "      <th>5</th>\n",
       "      <td>Roy Moore &amp; Jeff Sessions Cold Open - SNL</td>\n",
       "      <td>24</td>\n",
       "      <td>9951</td>\n",
       "    </tr>\n",
       "    <tr>\n",
       "      <th>6</th>\n",
       "      <td>[MV] Samuel(사무엘) _ Candy(캔디)</td>\n",
       "      <td>10</td>\n",
       "      <td>9941</td>\n",
       "    </tr>\n",
       "    <tr>\n",
       "      <th>7</th>\n",
       "      <td>Sarah Jessica Parker Finally Gets Asked To Prom</td>\n",
       "      <td>24</td>\n",
       "      <td>9940</td>\n",
       "    </tr>\n",
       "    <tr>\n",
       "      <th>8</th>\n",
       "      <td>YOUTUBER QUIZ + TRUTH OR DARE W/ THE MERRELL T...</td>\n",
       "      <td>22</td>\n",
       "      <td>9911</td>\n",
       "    </tr>\n",
       "    <tr>\n",
       "      <th>9</th>\n",
       "      <td>Model Aircraft Styled 3D Printed Air Engine, E...</td>\n",
       "      <td>28</td>\n",
       "      <td>9901</td>\n",
       "    </tr>\n",
       "    <tr>\n",
       "      <th>10</th>\n",
       "      <td>Jimmy Kimmel Returns with Baby Billy After Hea...</td>\n",
       "      <td>23</td>\n",
       "      <td>9899</td>\n",
       "    </tr>\n",
       "  </tbody>\n",
       "</table>\n",
       "</div>"
      ],
      "text/plain": [
       "                                              V_Title Cat_id Likes\n",
       "1                                BEST MAKEUP OF 2017!     26  9983\n",
       "2           Why Is Jerusalem a Controversial Capital?     25  9974\n",
       "3                   Animal Adventure Park Giraffe Cam     15  9959\n",
       "4            Luke Bryan - Out Of Nowhere Girl (Audio)     10  9956\n",
       "5           Roy Moore & Jeff Sessions Cold Open - SNL     24  9951\n",
       "6                        [MV] Samuel(사무엘) _ Candy(캔디)     10  9941\n",
       "7     Sarah Jessica Parker Finally Gets Asked To Prom     24  9940\n",
       "8   YOUTUBER QUIZ + TRUTH OR DARE W/ THE MERRELL T...     22  9911\n",
       "9   Model Aircraft Styled 3D Printed Air Engine, E...     28  9901\n",
       "10  Jimmy Kimmel Returns with Baby Billy After Hea...     23  9899"
      ]
     },
     "execution_count": 21,
     "metadata": {},
     "output_type": "execute_result"
    }
   ],
   "source": [
    "Most_liked=pd.DataFrame(M_likes,columns=['V_Title','Cat_id','Likes'])\n",
    "Most_liked.reset_index(drop=True,inplace=True)\n",
    "Most_liked.iloc[1:11]\n"
   ]
  },
  {
   "cell_type": "code",
   "execution_count": 22,
   "metadata": {},
   "outputs": [
    {
     "data": {
      "text/plain": [
       "V_Title    object\n",
       "Cat_id     object\n",
       "Likes      object\n",
       "dtype: object"
      ]
     },
     "execution_count": 22,
     "metadata": {},
     "output_type": "execute_result"
    }
   ],
   "source": [
    "Most_liked.dtypes"
   ]
  },
  {
   "cell_type": "markdown",
   "metadata": {},
   "source": [
    "TOP 10 DISLIKED VIDEO"
   ]
  },
  {
   "cell_type": "code",
   "execution_count": 23,
   "metadata": {},
   "outputs": [
    {
     "data": {
      "text/html": [
       "<div>\n",
       "<style scoped>\n",
       "    .dataframe tbody tr th:only-of-type {\n",
       "        vertical-align: middle;\n",
       "    }\n",
       "\n",
       "    .dataframe tbody tr th {\n",
       "        vertical-align: top;\n",
       "    }\n",
       "\n",
       "    .dataframe thead th {\n",
       "        text-align: right;\n",
       "    }\n",
       "</style>\n",
       "<table border=\"1\" class=\"dataframe\">\n",
       "  <thead>\n",
       "    <tr style=\"text-align: right;\">\n",
       "      <th></th>\n",
       "      <th>V_Title</th>\n",
       "      <th>Cat_id</th>\n",
       "      <th>Dislikes</th>\n",
       "    </tr>\n",
       "  </thead>\n",
       "  <tbody>\n",
       "    <tr>\n",
       "      <th>1</th>\n",
       "      <td>Country Music Hall of Famer Mel Tillis has died</td>\n",
       "      <td>25</td>\n",
       "      <td>9999</td>\n",
       "    </tr>\n",
       "    <tr>\n",
       "      <th>2</th>\n",
       "      <td>Marbles, Magnets, and Music (Synchronized)</td>\n",
       "      <td>24</td>\n",
       "      <td>9972</td>\n",
       "    </tr>\n",
       "    <tr>\n",
       "      <th>3</th>\n",
       "      <td>DOG TRIES TO WAKE UP SLEEPING PIG</td>\n",
       "      <td>15</td>\n",
       "      <td>9972</td>\n",
       "    </tr>\n",
       "    <tr>\n",
       "      <th>4</th>\n",
       "      <td>Alex Williams  - Prize-winning Designer of the...</td>\n",
       "      <td>28</td>\n",
       "      <td>9968</td>\n",
       "    </tr>\n",
       "    <tr>\n",
       "      <th>5</th>\n",
       "      <td>Green Light - Cyanide &amp; Happiness Minis</td>\n",
       "      <td>23</td>\n",
       "      <td>996</td>\n",
       "    </tr>\n",
       "    <tr>\n",
       "      <th>6</th>\n",
       "      <td>The Pink Hair Transformation We're Obsessed Wi...</td>\n",
       "      <td>26</td>\n",
       "      <td>996</td>\n",
       "    </tr>\n",
       "    <tr>\n",
       "      <th>7</th>\n",
       "      <td>Christina Aguilera - Whitney Houston Tribute (...</td>\n",
       "      <td>10</td>\n",
       "      <td>9948</td>\n",
       "    </tr>\n",
       "    <tr>\n",
       "      <th>8</th>\n",
       "      <td>Jenga Wizard -  980027</td>\n",
       "      <td>23</td>\n",
       "      <td>9948</td>\n",
       "    </tr>\n",
       "    <tr>\n",
       "      <th>9</th>\n",
       "      <td>You're not crazy. Apple is slowing down older ...</td>\n",
       "      <td>43</td>\n",
       "      <td>9944</td>\n",
       "    </tr>\n",
       "    <tr>\n",
       "      <th>10</th>\n",
       "      <td>Koala Brawl : Koalas Fight on Australian Road ...</td>\n",
       "      <td>24</td>\n",
       "      <td>9943</td>\n",
       "    </tr>\n",
       "  </tbody>\n",
       "</table>\n",
       "</div>"
      ],
      "text/plain": [
       "                                              V_Title Cat_id Dislikes\n",
       "1     Country Music Hall of Famer Mel Tillis has died     25     9999\n",
       "2          Marbles, Magnets, and Music (Synchronized)     24     9972\n",
       "3                   DOG TRIES TO WAKE UP SLEEPING PIG     15     9972\n",
       "4   Alex Williams  - Prize-winning Designer of the...     28     9968\n",
       "5             Green Light - Cyanide & Happiness Minis     23      996\n",
       "6   The Pink Hair Transformation We're Obsessed Wi...     26      996\n",
       "7   Christina Aguilera - Whitney Houston Tribute (...     10     9948\n",
       "8                              Jenga Wizard -  980027     23     9948\n",
       "9   You're not crazy. Apple is slowing down older ...     43     9944\n",
       "10  Koala Brawl : Koalas Fight on Australian Road ...     24     9943"
      ]
     },
     "execution_count": 23,
     "metadata": {},
     "output_type": "execute_result"
    }
   ],
   "source": [
    "M_Dlikes=df.sort_values(by=['Dislikes'],ascending=[False],kind='mergesort')\n",
    "Most_Dliked=pd.DataFrame(M_Dlikes,columns=['V_Title','Cat_id','Dislikes'])\n",
    "Most_Dliked.reset_index(drop=True,inplace=True)\n",
    "Most_Dliked.iloc[1:11]"
   ]
  },
  {
   "cell_type": "markdown",
   "metadata": {},
   "source": [
    "TOP 10 VIEWED VIDEO"
   ]
  },
  {
   "cell_type": "code",
   "execution_count": 85,
   "metadata": {},
   "outputs": [
    {
     "data": {
      "text/plain": [
       "Video_id\n",
       "HDR9SQc79     1978978\n",
       "KNH52UF?48    1487870\n",
       "QTW28IRG36    1502102\n",
       "MGL76WI]26    3519302\n",
       "TWP93KXT70    4835374\n",
       "               ...   \n",
       "OKR48DOE67     747960\n",
       "QJK69DS?91     200410\n",
       "VHF51NVr11     244022\n",
       "XHU22OAJ39     907340\n",
       "IFD79NSG47     465531\n",
       "Name: Views, Length: 3198, dtype: object"
      ]
     },
     "execution_count": 85,
     "metadata": {},
     "output_type": "execute_result"
    }
   ],
   "source": [
    "df.Views"
   ]
  },
  {
   "cell_type": "code",
   "execution_count": 92,
   "metadata": {},
   "outputs": [
    {
     "data": {
      "text/plain": [
       "3194"
      ]
     },
     "execution_count": 92,
     "metadata": {},
     "output_type": "execute_result"
    }
   ],
   "source": [
    "df.Views.nunique()\n"
   ]
  },
  {
   "cell_type": "code",
   "execution_count": 87,
   "metadata": {},
   "outputs": [
    {
     "data": {
      "text/plain": [
       "858323     2\n",
       "932496     2\n",
       "879028     2\n",
       "684854     2\n",
       "1978978    1\n",
       "          ..\n",
       "931150     1\n",
       "879743     1\n",
       "164863     1\n",
       "2760338    1\n",
       "465531     1\n",
       "Name: Views, Length: 3194, dtype: int64"
      ]
     },
     "execution_count": 87,
     "metadata": {},
     "output_type": "execute_result"
    }
   ],
   "source": [
    "df.Views.value_counts()"
   ]
  },
  {
   "cell_type": "code",
   "execution_count": 24,
   "metadata": {},
   "outputs": [
    {
     "data": {
      "text/html": [
       "<div>\n",
       "<style scoped>\n",
       "    .dataframe tbody tr th:only-of-type {\n",
       "        vertical-align: middle;\n",
       "    }\n",
       "\n",
       "    .dataframe tbody tr th {\n",
       "        vertical-align: top;\n",
       "    }\n",
       "\n",
       "    .dataframe thead th {\n",
       "        text-align: right;\n",
       "    }\n",
       "</style>\n",
       "<table border=\"1\" class=\"dataframe\">\n",
       "  <thead>\n",
       "    <tr style=\"text-align: right;\">\n",
       "      <th></th>\n",
       "      <th>V_Title</th>\n",
       "      <th>Cat_id</th>\n",
       "      <th>Views</th>\n",
       "    </tr>\n",
       "  </thead>\n",
       "  <tbody>\n",
       "    <tr>\n",
       "      <th>1</th>\n",
       "      <td>Ed Sheeran &amp; Anne-Marie - Fairytale Of New Yor...</td>\n",
       "      <td>10</td>\n",
       "      <td>998005</td>\n",
       "    </tr>\n",
       "    <tr>\n",
       "      <th>2</th>\n",
       "      <td>OUR SECRET FAN FICTIONS?! - Truth Bombs #2!</td>\n",
       "      <td>20</td>\n",
       "      <td>995080</td>\n",
       "    </tr>\n",
       "    <tr>\n",
       "      <th>3</th>\n",
       "      <td>Casey Neistat Melts His Face Off While Eating ...</td>\n",
       "      <td>26</td>\n",
       "      <td>994115</td>\n",
       "    </tr>\n",
       "    <tr>\n",
       "      <th>4</th>\n",
       "      <td>What's In Madison Beer's Bag | Spill It | Refi...</td>\n",
       "      <td>26</td>\n",
       "      <td>991804</td>\n",
       "    </tr>\n",
       "    <tr>\n",
       "      <th>5</th>\n",
       "      <td>TODRICK RETURNS TO BROADWAY</td>\n",
       "      <td>24</td>\n",
       "      <td>991799</td>\n",
       "    </tr>\n",
       "    <tr>\n",
       "      <th>6</th>\n",
       "      <td>ATTEMPTING EVERY 2017 TREND</td>\n",
       "      <td>24</td>\n",
       "      <td>991739</td>\n",
       "    </tr>\n",
       "    <tr>\n",
       "      <th>7</th>\n",
       "      <td>I Got Transformed Into Zendaya | Beauty Evolut...</td>\n",
       "      <td>26</td>\n",
       "      <td>990279</td>\n",
       "    </tr>\n",
       "    <tr>\n",
       "      <th>8</th>\n",
       "      <td>Nick Andopolis: Drummer</td>\n",
       "      <td>1</td>\n",
       "      <td>989873537</td>\n",
       "    </tr>\n",
       "    <tr>\n",
       "      <th>9</th>\n",
       "      <td>Raw: 3 South Carolina Deputies, 1 Officer Shot</td>\n",
       "      <td>25</td>\n",
       "      <td>987232</td>\n",
       "    </tr>\n",
       "    <tr>\n",
       "      <th>10</th>\n",
       "      <td>Alabama senate election: New poll shows Doug J...</td>\n",
       "      <td>25</td>\n",
       "      <td>986645</td>\n",
       "    </tr>\n",
       "  </tbody>\n",
       "</table>\n",
       "</div>"
      ],
      "text/plain": [
       "                                              V_Title Cat_id      Views\n",
       "1   Ed Sheeran & Anne-Marie - Fairytale Of New Yor...     10     998005\n",
       "2         OUR SECRET FAN FICTIONS?! - Truth Bombs #2!     20     995080\n",
       "3   Casey Neistat Melts His Face Off While Eating ...     26     994115\n",
       "4   What's In Madison Beer's Bag | Spill It | Refi...     26     991804\n",
       "5                         TODRICK RETURNS TO BROADWAY     24     991799\n",
       "6                         ATTEMPTING EVERY 2017 TREND     24     991739\n",
       "7   I Got Transformed Into Zendaya | Beauty Evolut...     26     990279\n",
       "8                             Nick Andopolis: Drummer      1  989873537\n",
       "9      Raw: 3 South Carolina Deputies, 1 Officer Shot     25     987232\n",
       "10  Alabama senate election: New poll shows Doug J...     25     986645"
      ]
     },
     "execution_count": 24,
     "metadata": {},
     "output_type": "execute_result"
    }
   ],
   "source": [
    "M_Views=df.sort_values(by=['Views'],ascending=[False],kind='mergesort')\n",
    "Most_Viewed=pd.DataFrame(M_Views,columns=['V_Title','Cat_id','Views'])\n",
    "Most_Viewed.reset_index(drop=True,inplace=True)\n",
    "Most_Viewed.iloc[1:11]"
   ]
  },
  {
   "cell_type": "markdown",
   "metadata": {},
   "source": [
    "TOP 10 CHANNEL "
   ]
  },
  {
   "cell_type": "code",
   "execution_count": 25,
   "metadata": {},
   "outputs": [
    {
     "data": {
      "text/html": [
       "<div>\n",
       "<style scoped>\n",
       "    .dataframe tbody tr th:only-of-type {\n",
       "        vertical-align: middle;\n",
       "    }\n",
       "\n",
       "    .dataframe tbody tr th {\n",
       "        vertical-align: top;\n",
       "    }\n",
       "\n",
       "    .dataframe thead th {\n",
       "        text-align: right;\n",
       "    }\n",
       "</style>\n",
       "<table border=\"1\" class=\"dataframe\">\n",
       "  <thead>\n",
       "    <tr style=\"text-align: right;\">\n",
       "      <th></th>\n",
       "      <th>Ch_Title</th>\n",
       "      <th>Views</th>\n",
       "      <th>SubCbr</th>\n",
       "    </tr>\n",
       "  </thead>\n",
       "  <tbody>\n",
       "    <tr>\n",
       "      <th>1</th>\n",
       "      <td>TMZ</td>\n",
       "      <td>1227410</td>\n",
       "      <td>222786000.0</td>\n",
       "    </tr>\n",
       "    <tr>\n",
       "      <th>2</th>\n",
       "      <td>Boldly</td>\n",
       "      <td>2387285</td>\n",
       "      <td>99230156.0</td>\n",
       "    </tr>\n",
       "    <tr>\n",
       "      <th>3</th>\n",
       "      <td>Ed Sheeran</td>\n",
       "      <td>6339354</td>\n",
       "      <td>28676937.0</td>\n",
       "    </tr>\n",
       "    <tr>\n",
       "      <th>4</th>\n",
       "      <td>Dude Perfect</td>\n",
       "      <td>6184137</td>\n",
       "      <td>27998379.0</td>\n",
       "    </tr>\n",
       "    <tr>\n",
       "      <th>5</th>\n",
       "      <td>TaylorSwiftVEVO</td>\n",
       "      <td>6016357</td>\n",
       "      <td>27907431.0</td>\n",
       "    </tr>\n",
       "    <tr>\n",
       "      <th>6</th>\n",
       "      <td>YouTube Spotlight</td>\n",
       "      <td>5534788</td>\n",
       "      <td>27221198.0</td>\n",
       "    </tr>\n",
       "    <tr>\n",
       "      <th>7</th>\n",
       "      <td>KatyPerryVEVO</td>\n",
       "      <td>5867549</td>\n",
       "      <td>26735363.0</td>\n",
       "    </tr>\n",
       "    <tr>\n",
       "      <th>8</th>\n",
       "      <td>EminemVEVO</td>\n",
       "      <td>6068848</td>\n",
       "      <td>26383080.0</td>\n",
       "    </tr>\n",
       "    <tr>\n",
       "      <th>9</th>\n",
       "      <td>TheEllenShow</td>\n",
       "      <td>5447693</td>\n",
       "      <td>23760020.0</td>\n",
       "    </tr>\n",
       "    <tr>\n",
       "      <th>10</th>\n",
       "      <td>WWE</td>\n",
       "      <td>4818957</td>\n",
       "      <td>23182596.0</td>\n",
       "    </tr>\n",
       "  </tbody>\n",
       "</table>\n",
       "</div>"
      ],
      "text/plain": [
       "             Ch_Title    Views       SubCbr\n",
       "1                 TMZ  1227410  222786000.0\n",
       "2              Boldly  2387285   99230156.0\n",
       "3          Ed Sheeran  6339354   28676937.0\n",
       "4        Dude Perfect  6184137   27998379.0\n",
       "5     TaylorSwiftVEVO  6016357   27907431.0\n",
       "6   YouTube Spotlight  5534788   27221198.0\n",
       "7       KatyPerryVEVO  5867549   26735363.0\n",
       "8          EminemVEVO  6068848   26383080.0\n",
       "9        TheEllenShow  5447693   23760020.0\n",
       "10                WWE  4818957   23182596.0"
      ]
     },
     "execution_count": 25,
     "metadata": {},
     "output_type": "execute_result"
    }
   ],
   "source": [
    "M_ch=df.sort_values(by=['SubCbr'],ascending=[False],kind='mergesort')\n",
    "Top_ch=pd.DataFrame(M_ch,columns=['Ch_Title','Views','SubCbr'])\n",
    "Top_ch.drop_duplicates(subset='Ch_Title',keep='first',inplace=True)\n",
    "Top_ch.reset_index(drop=True,inplace=True)\n",
    "Top_ch.iloc[1:11]"
   ]
  },
  {
   "cell_type": "markdown",
   "metadata": {},
   "source": [
    "TOP 10 TRENDING VIDEO"
   ]
  },
  {
   "cell_type": "code",
   "execution_count": 26,
   "metadata": {},
   "outputs": [
    {
     "data": {
      "text/html": [
       "<div>\n",
       "<style scoped>\n",
       "    .dataframe tbody tr th:only-of-type {\n",
       "        vertical-align: middle;\n",
       "    }\n",
       "\n",
       "    .dataframe tbody tr th {\n",
       "        vertical-align: top;\n",
       "    }\n",
       "\n",
       "    .dataframe thead th {\n",
       "        text-align: right;\n",
       "    }\n",
       "</style>\n",
       "<table border=\"1\" class=\"dataframe\">\n",
       "  <thead>\n",
       "    <tr style=\"text-align: right;\">\n",
       "      <th></th>\n",
       "      <th>Video_id</th>\n",
       "      <th>Ch_Title</th>\n",
       "      <th>Views</th>\n",
       "      <th>Trend_day_count</th>\n",
       "      <th>V_Title</th>\n",
       "    </tr>\n",
       "  </thead>\n",
       "  <tbody>\n",
       "    <tr>\n",
       "      <th>1</th>\n",
       "      <td>MGL76WI]26</td>\n",
       "      <td>Good Mythical Morning</td>\n",
       "      <td>3519302</td>\n",
       "      <td>12.0</td>\n",
       "      <td>Nickelback Lyrics: Real or Fake?</td>\n",
       "    </tr>\n",
       "    <tr>\n",
       "      <th>2</th>\n",
       "      <td>ZUW72GLK1</td>\n",
       "      <td>FaeryInLoveInc</td>\n",
       "      <td>989873537</td>\n",
       "      <td>12.0</td>\n",
       "      <td>Nick Andopolis: Drummer</td>\n",
       "    </tr>\n",
       "    <tr>\n",
       "      <th>3</th>\n",
       "      <td>NVK72MP]8</td>\n",
       "      <td>officer401</td>\n",
       "      <td>578042</td>\n",
       "      <td>12.0</td>\n",
       "      <td>What's Inside a Detectives Car?</td>\n",
       "    </tr>\n",
       "    <tr>\n",
       "      <th>4</th>\n",
       "      <td>HHB96CGF16</td>\n",
       "      <td>Screen Junkies</td>\n",
       "      <td>2178128</td>\n",
       "      <td>12.0</td>\n",
       "      <td>TL</td>\n",
       "    </tr>\n",
       "    <tr>\n",
       "      <th>5</th>\n",
       "      <td>YEO48IMc76</td>\n",
       "      <td>BBC News</td>\n",
       "      <td>1070097</td>\n",
       "      <td>12.0</td>\n",
       "      <td>Iraq-Iran earthquake: Deadly tremor hits borde...</td>\n",
       "    </tr>\n",
       "    <tr>\n",
       "      <th>6</th>\n",
       "      <td>BQT13ZPm60</td>\n",
       "      <td>NBA Highlights · YouTube</td>\n",
       "      <td>606420</td>\n",
       "      <td>12.0</td>\n",
       "      <td>Stephon Marbury and Jimmer Fredette fight in C...</td>\n",
       "    </tr>\n",
       "    <tr>\n",
       "      <th>7</th>\n",
       "      <td>AMP35BDV62</td>\n",
       "      <td>D3sports.com</td>\n",
       "      <td>970937</td>\n",
       "      <td>12.0</td>\n",
       "      <td>Heidelberg's nifty hook-and-lateral to the lef...</td>\n",
       "    </tr>\n",
       "    <tr>\n",
       "      <th>8</th>\n",
       "      <td>EIZ97XOi35</td>\n",
       "      <td>GEazyMusicVEVO</td>\n",
       "      <td>1842245</td>\n",
       "      <td>12.0</td>\n",
       "      <td>G-Eazy - The Plan (Official Video)</td>\n",
       "    </tr>\n",
       "    <tr>\n",
       "      <th>9</th>\n",
       "      <td>MZC20JIC35</td>\n",
       "      <td>IISuperwomanII</td>\n",
       "      <td>3469689</td>\n",
       "      <td>12.0</td>\n",
       "      <td>When Someone Has A Crush on You | Lilly Singh</td>\n",
       "    </tr>\n",
       "    <tr>\n",
       "      <th>10</th>\n",
       "      <td>GGE98DEb16</td>\n",
       "      <td>Hopeless Records</td>\n",
       "      <td>456720</td>\n",
       "      <td>12.0</td>\n",
       "      <td>Neck Deep - Parachute (Official Music Video)</td>\n",
       "    </tr>\n",
       "  </tbody>\n",
       "</table>\n",
       "</div>"
      ],
      "text/plain": [
       "      Video_id                  Ch_Title      Views  Trend_day_count  \\\n",
       "1   MGL76WI]26     Good Mythical Morning    3519302             12.0   \n",
       "2    ZUW72GLK1            FaeryInLoveInc  989873537             12.0   \n",
       "3    NVK72MP]8                officer401     578042             12.0   \n",
       "4   HHB96CGF16            Screen Junkies    2178128             12.0   \n",
       "5   YEO48IMc76                  BBC News    1070097             12.0   \n",
       "6   BQT13ZPm60  NBA Highlights · YouTube     606420             12.0   \n",
       "7   AMP35BDV62              D3sports.com     970937             12.0   \n",
       "8   EIZ97XOi35            GEazyMusicVEVO    1842245             12.0   \n",
       "9   MZC20JIC35            IISuperwomanII    3469689             12.0   \n",
       "10  GGE98DEb16          Hopeless Records     456720             12.0   \n",
       "\n",
       "                                              V_Title  \n",
       "1                    Nickelback Lyrics: Real or Fake?  \n",
       "2                             Nick Andopolis: Drummer  \n",
       "3                     What's Inside a Detectives Car?  \n",
       "4                                                  TL  \n",
       "5   Iraq-Iran earthquake: Deadly tremor hits borde...  \n",
       "6   Stephon Marbury and Jimmer Fredette fight in C...  \n",
       "7   Heidelberg's nifty hook-and-lateral to the lef...  \n",
       "8                  G-Eazy - The Plan (Official Video)  \n",
       "9       When Someone Has A Crush on You | Lilly Singh  \n",
       "10       Neck Deep - Parachute (Official Music Video)  "
      ]
     },
     "execution_count": 26,
     "metadata": {},
     "output_type": "execute_result"
    }
   ],
   "source": [
    "t_V=df.sort_values(by=['Trend_day_count'],ascending=[False],kind='mergesort')\n",
    "Trend_count=pd.DataFrame(t_V,columns=['Ch_Title','Views','Trend_day_count','V_Title'])\n",
    "Trend_count.reset_index(inplace=True)\n",
    "Trend_count.iloc[1:11]"
   ]
  }
 ],
 "metadata": {
  "kernelspec": {
   "display_name": "Python 3 (ipykernel)",
   "language": "python",
   "name": "python3"
  },
  "language_info": {
   "codemirror_mode": {
    "name": "ipython",
    "version": 3
   },
   "file_extension": ".py",
   "mimetype": "text/x-python",
   "name": "python",
   "nbconvert_exporter": "python",
   "pygments_lexer": "ipython3",
   "version": "3.10.9"
  },
  "vscode": {
   "interpreter": {
    "hash": "c5933434ec88aa713f7f89c47fca26c15e2a5e9c19ee6eaa794014d53334312d"
   }
  }
 },
 "nbformat": 4,
 "nbformat_minor": 2
}
